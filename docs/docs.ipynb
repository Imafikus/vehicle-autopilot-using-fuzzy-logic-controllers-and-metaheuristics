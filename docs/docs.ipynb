{
  "nbformat": 4,
  "nbformat_minor": 0,
  "metadata": {
    "kernelspec": {
      "display_name": "Python 3",
      "language": "python",
      "name": "python3"
    },
    "language_info": {
      "codemirror_mode": {
        "name": "ipython",
        "version": 3
      },
      "file_extension": ".py",
      "mimetype": "text/x-python",
      "name": "python",
      "nbconvert_exporter": "python",
      "pygments_lexer": "ipython3",
      "version": "3.6.9"
    },
    "colab": {
      "name": "RI - Projekat",
      "provenance": [],
      "collapsed_sections": [],
      "toc_visible": true
    }
  },
  "cells": [
    {
      "cell_type": "markdown",
      "metadata": {
        "id": "xzyBYxTYNRAe",
        "colab_type": "text"
      },
      "source": [
        "# **Optimizacija fazi kontrolera za vožnju automobila korišćenjem genetskog algoritma**\n",
        "\n",
        "## **Uvod**\n",
        "\n",
        "Cilj ovog rada je bila optimizacija fazi kontrolera za vožnju korišćenjem genetskog algoritma. Kontroler je upravljao automobilom koji se kretao po otvorenom ili zatvorenom putu, u zavisnosti od zadatih opcija.  \n",
        "\n",
        "U radu je prvo pokazano da je moguće konstruisati fazi kontroler koji će pravilno upravljati automobilom, a zatim je pokazano i da je moguće optimizovati funkcije pripadnosti ulaza i izlaza, na osnovu zadatih pravila uz pomoć genetskog algoritma, tako da pravilno upravlja automobilom.  \n",
        "\n",
        "Uspešnost genetskog algoritma je merena tako što se optimizovani sistem upoređivao sa ručno napravljenim sistemom.\n",
        "\n",
        "Automobilom se upravlja pravilno ako se automobil ne sudara sa ivicama puta i ako se kreće po sredini puta, koliko god je to moguće.\n",
        "\n",
        "Automobil je testiran na dve vrste puta. Prvi tip puta je krivudav put koji je izgenerisan sinusiodom, a drugi tip puta je bio zatvoren kružni put izgenerisan pomoću konveksnog omotača nasumično odabranog skupa koordinata.\n",
        "\n",
        "**Reference:**\n",
        "> Fazi Logika: \n",
        "- http://poincare.matf.bg.ac.rs/~stefan/ri/3.html\n",
        "- http://www.dma.fi.upm.es/recursos/aplicaciones/logica_borrosa/web/fuzzy_inferencia/mamdani2_en.htm\n",
        "\n",
        "> Automatizacija vozila preko fazi kontrolera:\n",
        "- http://www.ijarset.com/upload/2018/march/11-IJARSET-Vipul-1.pdf\n",
        "\n",
        "> Optimizacija fazi sistema preko genetskog Algoritma: \n",
        "- https://www.researchgate.net/publication/261464574_Optimization_of_a_fuzzy_logic_controller_using_genetic_algorithms"
      ]
    },
    {
      "cell_type": "markdown",
      "metadata": {
        "id": "GHBy93KDVe62",
        "colab_type": "text"
      },
      "source": [
        "## **Generisanje puta**\n",
        "\n",
        "Za testiranje algoritma su korišćene 2 vrste puta:\n",
        "- Konstantan krivudav put generisan sinusnom funkcijom\n",
        "- Nasumično generisan put korišćenjem convex hull algoritma\n",
        "\n",
        "Radi bržeg pokretanja programa, putevi se unapred mogu izgenerisati pokretanjem `display_matrix_generator.py` koji će snimiti matrice za obe vrste puta.\n",
        "\n",
        "**Generisanje krivudavog puta:**"
      ]
    },
    {
      "cell_type": "code",
      "metadata": {
        "id": "XjiMWXW3Ve64",
        "colab_type": "code",
        "colab": {}
      },
      "source": [
        "def generate_sin_path():\n",
        "    coords1 = []\n",
        "    coords2 = []\n",
        "    offset = 200\n",
        "    num_of_points = 20\n",
        "\n",
        "    for i in range(constants.SCREEN_WIDTH):\n",
        "        coords1.append((i, math.sin(0.01*i) * 200 + 250))\n",
        "\n",
        "    coords2 = lt.apply_translation(0, offset, coords1)\n",
        "    coords2.reverse() #? in order to properly match coords for polygon\n",
        "\n",
        "    polygon = coords1 + coords2\n",
        "    \n",
        "    is_closed = False\n",
        "    return polygon, is_closed"
      ],
      "execution_count": 0,
      "outputs": []
    },
    {
      "cell_type": "markdown",
      "metadata": {
        "id": "66m_v7RPVe69",
        "colab_type": "text"
      },
      "source": [
        "**Generisanje konveksnog poligona:**"
      ]
    },
    {
      "cell_type": "code",
      "metadata": {
        "id": "gX4ji7WLVe6-",
        "colab_type": "code",
        "colab": {}
      },
      "source": [
        "def generate_convex_polygon(): \n",
        "    #? Guarantees that we will have car in our convex polygon\n",
        "    coords = [(constants.CAR_POS_X, constants.CAR_POS_Y + 10)]\n",
        "    num_of_points = 20\n",
        "    \n",
        "    for i in range (num_of_points):\n",
        "        x = random.randrange(constants.SCREEN_WIDTH)\n",
        "        y = random.randrange(constants.SCREEN_HEIGHT)\n",
        "        coords.append((x, y))\n",
        "\n",
        "    coords1 = ch.gift_wrap(coords)\n",
        "\n",
        "    scaling_factor = 0.6\n",
        "    offset_x = 200\n",
        "    offset_y = 150\n",
        "    coords2 = lt.apply_scaling(scaling_factor, scaling_factor, coords1)\n",
        "    coords2 = lt.apply_translation(offset_x, offset_y, coords2)\n",
        "\n",
        "    polygon = [coords1, coords2]\n",
        "    \n",
        "    is_closed = True\n",
        "    return polygon, is_closed"
      ],
      "execution_count": 0,
      "outputs": []
    },
    {
      "cell_type": "markdown",
      "metadata": {
        "id": "eTMp0rk-Ve7D",
        "colab_type": "text"
      },
      "source": [
        "#### **Krivudav put**\n",
        "\n",
        "![Krivudav put](https://i.imgur.com/ebntYBh.png)"
      ]
    },
    {
      "cell_type": "markdown",
      "metadata": {
        "id": "KeKuJflhacgz",
        "colab_type": "text"
      },
      "source": [
        "#### **Zatvoren put**\n",
        "\n",
        "![Zatvoren put](https://i.imgur.com/hWVpZ59.png)\n"
      ]
    },
    {
      "cell_type": "markdown",
      "metadata": {
        "id": "IA8NaOROTJJj",
        "colab_type": "text"
      },
      "source": [
        "### **Senzori: Uvod**\n",
        "\n",
        "Senzori se koriste u simulaciji da izračunaju rastojanje između vozila i krajeva puta. Rastojanja se koriste kao ulaz za fazi sistem. Svi senzori se u ovom slučaju nalaze sa prednje strane vozila. Razlikujemo tri vrste senzora:\n",
        "- **levi senzor**: računa rastojanje između vozila i kraja puta koji se nalazi levo od vozila;\n",
        "- **prednji senzor**: računa rastojanje između vozila i kraja puta koji se nalazi ispred vozila;\n",
        "- **desni senzor**: računa rastojanje između vozila i kraja puta koji se nalazi desno od vozila;\n",
        "\n",
        "\n",
        "![senzori1](https://i.imgur.com/ItnfUpG.png)"
      ]
    },
    {
      "cell_type": "markdown",
      "metadata": {
        "id": "WWB4csuMTOdd",
        "colab_type": "text"
      },
      "source": [
        "### **Senzori: Presečna tačka**\n",
        "Da bi izračunali dužinu linije senzora, potrebno je da pronađemo tačku u bitovskoj mapi gde se senzorna prava preseca put. Ako fiksiramo rotaciju vozila, onda je prednji senzor paralelan sa x-osom, a levi i desni senzori su paralelni sa y-osom. Bas kao i na slici, možemo iterirati po x i y koordinatama bitovske mape dok ne stignemo do presečne tačke. Koristimo sličnu ideju i kad rotacije vozila nije fiksirana.\n",
        "\n",
        "- Neka je r = (Xo, Yo)** vektor pozicije vozila, **a** ugao rotacije vozila i neka **z** krajnja tača senzora u sistemu sa reperom u tački (Xo, Yo), gde je **|z|** intenzitet vektora;\n",
        "- Ugao vektora **z** za prednji senzor je jednak uglu rotacije vozila tj. **a**: **z = (|z|·cos(a), |z|·sin(a)) = (z·cos(a), z·sin(a));**\n",
        "- Pozicija krajnje tačke senzora **S(z)** je jednaka **r * z**;\n",
        "- Mozemo povećavati intenzitet vektor **z** dok tačka **S** ne postane presečna tačka;\n",
        "- U svakoj iteraciji računamo **S(z) kao: **s(z) = r + z = (Xo + z·cos(a), Yo + z·sin(a)).**\n",
        "\t\n",
        "![senzori2](https://i.imgur.com/FIXfZrE.png)\n",
        "- Rastojanja za levi i desni senzor računamo na isti način. Dovoljno je da uvećamo ugao **a** za **90°** odnosno smanjimo za **90°** stepeni"
      ]
    },
    {
      "cell_type": "code",
      "metadata": {
        "id": "fWzgKg8PBwct",
        "colab_type": "code",
        "colab": {}
      },
      "source": [
        "def sensor(self, name, screen, angle_direction):\n",
        "        angle = -self.angle/180*math.pi\n",
        "        pos_x = self.center_position().x\n",
        "        pos_y = self.center_position().y\n",
        "        z = 0\n",
        "        while(valid_position(int(pos_x), int(pos_y)) and screen.get_at((int(pos_x), int(pos_y))) == constants.PATH_COLOR):\n",
        "            z = z + 1\n",
        "            pos_x = self.center_position().x + z*math.cos(angle - angle_direction)\n",
        "            pos_y = self.center_position().y + z*math.sin(angle - angle_direction)\n",
        "            \n",
        "        sensor_input = str(distance(self.center_position().x, self.center_position().y, pos_x, pos_y))\n",
        "        return sensor_input"
      ],
      "execution_count": 0,
      "outputs": []
    },
    {
      "cell_type": "markdown",
      "metadata": {
        "id": "TM_p7VaigBdb",
        "colab_type": "text"
      },
      "source": [
        "## **Senzori: Optimizacija**\n",
        "\n",
        "Pošto svaka jedinka prelazi sličnu putanju, neke pozicije se računaju više puta. Računanje rastojanja je skupa operacija,  Ne pravimo veliku grešku ako poziciju vozila i ugao rotacije vozila zaokružimo na ceo broj. U tom slučaju imamo konačan broj stanja u koje vozilo može da dođe. U mapi možemo čuvati ključ koji predstavlja uređenu trojku (**Xo, Yo, a)** tj. poziciju vozila i ugao. Taj ključ se preslikava u uredjenu trojku **(left_sensor_input, front_sensor_input, right_sensor_input)**. Ovom optimizacijom izbacujemo *dupla* izračunavanja. Posledica je spora inicijalizacija populacije i sporo računanje prvih par generacija."
      ]
    },
    {
      "cell_type": "code",
      "metadata": {
        "id": "cnl50bTxCHlB",
        "colab_type": "code",
        "colab": {}
      },
      "source": [
        "def get_sensors(car, road_matrix, memory):\n",
        "    car_x = int(car.center_position().x)\n",
        "    car_y = int(car.center_position().y)\n",
        "    angle = int(car.angle)\n",
        "    if (car_x, car_y, angle) in memory:\n",
        "        return memory[(car_x, car_y, angle)]\n",
        "    left, front, right = car.get_sensors2(road_matrix)\n",
        "    memory[(car_x, car_y, angle)] = (left, front, right)\n",
        "    return left, front, right"
      ],
      "execution_count": 0,
      "outputs": []
    },
    {
      "cell_type": "markdown",
      "metadata": {
        "id": "8eWouKqm5opI",
        "colab_type": "text"
      },
      "source": [
        "## **Fazi sistem: Uvod**\n",
        "\n",
        "\n",
        "Fazi sistem se sastoji iz 3 ulazne celine (skup karakterističnih funkcija), 2 izlazne celine i nekoliko pravila. Ideja:\n",
        "\n",
        "\n",
        ">Rastojanje vozila do kraja puta predstavljaju ulazne podatke za fazi sistem. Na osnovu ulaznih podataka računaju se karakteristične funkcije za svaku celinu (**fazifikacija**). Primenom pravila računamo karakteristične funkcije za svaku izlaznu celinu. Na kraju računamo izlazne podatke za svaku izlazni celinu kao centroid (**defazifikacija**).\n",
        "\n",
        "> Sve karakteristične funkcije su trapeznog oblika, sem funkcija na kraju i na početku intervala koje su definisane kao 'ramp' funkcije. Bitna stvar koju treba napomenuti je da se mogu primetiti i funkcije koje su trougaonog oblika, ali se one u kodu zapravo predstavljaju kao trapezna funkcija kojoj se koordinate 2 viša temena poklapaju. Takođe, sve celine imaju interval na kom su definisane karakteristične funkcije. Smatramo da je pripadnost 0 van tog intervala.\n",
        "\n"
      ]
    },
    {
      "cell_type": "markdown",
      "metadata": {
        "id": "OOr490pWyZDb",
        "colab_type": "text"
      },
      "source": [
        "## **Fazi Sistem: Implementacija ~ Mamdanijev fazi sistem**\n",
        "\n",
        "### Klase:\n",
        "- MFInput: Predstavlja jednu karakterističnu funkciju za ulazne podatke tj. računa pripadnost na osnovu ulaza. \n",
        "- MFOutput: Predstavlja jednu karakterističnu funkciju za izlazne podatke tj. računa pripadnost na osnovu definisanih pravila.\n",
        "- Rule: Predstavlja jedno pravilo fazi sistema.\n",
        "- FuzzyInput: Celina koja predstavlja skup karakterističnih funkcija za ulaz (MFInput). \n",
        "- FuzzyOutput: Celina koja predstavlja skup karakterističnih funkcija za izlaz (MFOutput).\n",
        "- FuzzySystem: Kompletan fazi sistem koji se sastoji iz niza ulaznih celina (FuzzyInput), niza pravila (Rule), i jedne izlazne celine (FuzzyOutput). Pozivom metode *fit* simulira se Mamdanijev proces fazi sistema za dati ulaz (ulaz senzora). Vrednost izlaza se nalazi u atributu *solution*."
      ]
    },
    {
      "cell_type": "markdown",
      "metadata": {
        "id": "YS4Gw4fOVe6O",
        "colab_type": "text"
      },
      "source": [
        "## **Fazi Sistem: Ulaz**\n",
        "\n",
        "Postoje tri ulazne celine:\n",
        "- `left_sensor`\n",
        "- `right_sensor`\n",
        "- `front_sensor`\n",
        "\n",
        "Svaka od njih ima cetiri karakteristične funkcije (za svaku celinu posebno definisane):  \n",
        "- `close`\n",
        "- `midrange`\n",
        "- `far`\n",
        "- `very far`\n",
        "\n",
        "One predstavljaju udaljenost od krajeva puta.   \n",
        "\n",
        ">Primer optimizovanog rešenja sa manjim brojem iteracija i manjom populacijom jedinki za ulaz **(left, front, right) = (5, 30, 15)**:\n",
        "\n",
        "![left_sensor](https://i.imgur.com/22ifsgu.png)\n",
        "![front_sensor](https://i.imgur.com/czS16hX.png)\n",
        "![right_sensor](https://i.imgur.com/4mEl0wU.png)"
      ]
    },
    {
      "cell_type": "markdown",
      "metadata": {
        "id": "IMKgxrWrwAdh",
        "colab_type": "text"
      },
      "source": [
        "## **Fazi sistem: Izlaz**\n",
        "\n",
        "Postoje dve izlazne celine:\n",
        "- `velocity`\n",
        "- `angle`\n",
        "\n",
        "`velocity` označava brzinu, dok `angle` označava ugao skretanja volana.\n",
        "\n",
        "`velocity` se sastoji od četiri karakteristične funkcije:\n",
        "- `low`\n",
        "- `middle`\n",
        "- `high`\n",
        "- `very high`\n",
        "\n",
        "`angle` se sastoji od pet karakterističnih funkcija:\n",
        "- `hard right`\n",
        "- `right`\n",
        "- `forward`\n",
        "- `left`\n",
        "- `hard left`\n",
        "\n",
        "> Primer optimizovanog rešenja sa manjim brojem iteracija i manjom populacijom jedinki za ulaz **(left, front, right) = (5, 30, 15)**:\n",
        "\n",
        "![angle](https://i.imgur.com/GCy71l1.png)\n",
        "![velocity](https://i.imgur.com/pBpjum9.png)\n",
        "\n",
        "> Parametri na osnovu kojih se generiše fazi sistem:\n"
      ]
    },
    {
      "cell_type": "code",
      "metadata": {
        "id": "lBsyP-c3Ve6Q",
        "colab_type": "code",
        "colab": {}
      },
      "source": [
        "ALL_FUZZY_FUNCS = {\n",
        "    \"left_sensor\": {\n",
        "        \"name\": \"left_sensor\",\n",
        "        \"left_boundary\": 0,\n",
        "        \"right_boundary\": 50,\n",
        "        \"mf_names\": [\"close\", \"midrange\", \"far\", \"very_far\"],\n",
        "        \"is_input\": True,\n",
        "    },\n",
        "    \"right_sensor\": {\n",
        "        \"name\": \"right_sensor\",\n",
        "        \"left_boundary\": 0,\n",
        "        \"right_boundary\": 50,\n",
        "        \"mf_names\": [\"close\", \"midrange\", \"far\", \"very_far\"],\n",
        "        \"is_input\": True,\n",
        "    },\n",
        "    \"front_sensor\": {\n",
        "        \"name\": \"front_sensor\",\n",
        "        \"left_boundary\": 0,\n",
        "        \"right_boundary\": 20,\n",
        "        \"mf_names\": [\"close\", \"midrange\", \"far\", \"very far\"],\n",
        "        \"is_input\": True,\n",
        "    },\n",
        "    \"velocity\": {\n",
        "        \"name\": \"velocity\",\n",
        "        \"left_boundary\": 1,\n",
        "        \"right_boundary\": 20,\n",
        "        \"mf_names\": [\"low\", \"middle\", \"high\", \"very high\"],\n",
        "        \"is_input\": False,\n",
        "    },\n",
        "    \"angle\": {\n",
        "        \"name\": \"angle\",\n",
        "        \"left_boundary\": -45,\n",
        "        \"right_boundary\": 45,\n",
        "        \"mf_names\": [\"hard right\", \"right\", \"forward\", \"left\", \"hard left\"],\n",
        "        \"is_input\": False,\n",
        "    }\n",
        "}"
      ],
      "execution_count": 0,
      "outputs": []
    },
    {
      "cell_type": "markdown",
      "metadata": {
        "id": "t8tWtw8oWSWC",
        "colab_type": "text"
      },
      "source": [
        "## **Fazi sistem: Ručno pravljen sistem**\n",
        "\n",
        "> Ručno konstruisan fazi sistem koji uspešno upravlja automobilom:"
      ]
    },
    {
      "cell_type": "code",
      "metadata": {
        "id": "RCXzce2xVe6V",
        "colab_type": "code",
        "colab": {}
      },
      "source": [
        "import fuzzy\n",
        "\n",
        "left = {\n",
        "    \"close\"    : fuzzy.MFInput(\"close\", np.array([0, 16]), np.array([1, 0])),\n",
        "    \"midrange\" : fuzzy.MFInput(\"midrange\", np.array([10, 14, 18, 24]), np.array([0, 1, 1, 0])),\n",
        "    \"far\"      : fuzzy.MFInput(\"far\", np.array([20, 36, 44]), np.array([0, 1, 0])),\n",
        "    \"very far\" : fuzzy.MFInput(\"very far\", np.array([32, 100]), np.array([0, 1]))\n",
        "}\n",
        "\n",
        "right = {\n",
        "    \"close\"    : fuzzy.MFInput(\"close\", np.array([0, 16]), np.array([1, 0])),\n",
        "    \"midrange\" : fuzzy.MFInput(\"midrange\", np.array([10, 16, 20, 28]), np.array([0, 1, 1, 0])),\n",
        "    \"far\"      : fuzzy.MFInput(\"far\", np.array([24, 40, 45]), np.array([0, 1, 0])),\n",
        "    \"very far\" : fuzzy.MFInput(\"very far\", np.array([35, 100]), np.array([0, 1]))\n",
        "}\n",
        "\n",
        "front = {\n",
        "    \"close\"    : fuzzy.MFInput(\"close\", np.array([0, 18]), np.array([1, 0])),\n",
        "    \"midrange\" : fuzzy.MFInput(\"midrange\", np.array([14, 20, 24, 28]), np.array([0, 1, 1, 0])),\n",
        "    \"far\"      : fuzzy.MFInput(\"far\", np.array([26, 34, 40]), np.array([0, 1, 0])),\n",
        "    \"very far\" : fuzzy.MFInput(\"very far\", np.array([35, 100]), np.array([0, 1])),\n",
        "}\n",
        "\n",
        "velocity = {\n",
        "    \"low\"       : fuzzy.MFOutput(\"low\", np.array([1, 2]), np.array([1, 0])),\n",
        "    \"middle\"    : fuzzy.MFOutput(\"middle\", np.array([1.5, 3, 3.5, 4]), np.array([0, 1, 1, 0])),\n",
        "    \"high\"      : fuzzy.MFOutput(\"high\", np.array([3.5, 4.5, 5.5]), np.array([0, 1, 0])),\n",
        "    \"very high\" : fuzzy.MFOutput(\"very high\", np.array([4, 8]), np.array([0, 1]))\n",
        "}\n",
        "\n",
        "angle = {\n",
        "    \"hard right\" : fuzzy.MFOutput(\"hard right\", np.array([25, 45]), np.array([1, 0])),\n",
        "    \"right\"      : fuzzy.MFOutput(\"right\", np.array([5, 22, 25]), np.array([0, 1, 0])),\n",
        "    \"forward\"    : fuzzy.MFOutput(\"forward\", np.array([-5, 0, 5]), np.array([0, 1, 0])),\n",
        "    \"left\"       : fuzzy.MFOutput(\"left\", np.array([-25, -22, -5]), np.array([0, 1, 0])),\n",
        "    \"hard left\"  : fuzzy.MFOutput(\"hard left\", np.array([-45, -25]), np.array([0, 1]))\n",
        "}\n",
        "\n",
        "left_sensor = fuzzy.FuzzyInput(\"left_sensor\", np.array([\n",
        "    left[\"close\"],\n",
        "    left[\"midrange\"],\n",
        "    left[\"far\"],\n",
        "    left[\"very far\"]\n",
        "]))\n",
        "\n",
        "right_sensor = fuzzy.FuzzyInput(\"right_sensor\", np.array([\n",
        "    right[\"close\"],\n",
        "    right[\"midrange\"],\n",
        "    right[\"far\"],\n",
        "    right[\"very far\"]\n",
        "]))\n",
        "\n",
        "front_sensor = fuzzy.FuzzyInput(\"front_sensor\", np.array([\n",
        "    front[\"close\"],\n",
        "    front[\"midrange\"],\n",
        "    front[\"far\"],\n",
        "    front[\"very far\"] \n",
        "]))\n",
        "\n",
        "f_velocity = fuzzy.FuzzyOutput(\"velocity\", np.array([\n",
        "    velocity[\"low\"],\n",
        "    velocity[\"middle\"],\n",
        "    velocity[\"high\"],\n",
        "    velocity[\"very high\"]\n",
        "]))\n",
        "\n",
        "f_angle = fuzzy.FuzzyOutput(\"angle\", np.array([\n",
        "    angle[\"hard right\"],\n",
        "    angle[\"right\"],\n",
        "    angle[\"forward\"],\n",
        "    angle[\"left\"],\n",
        "    angle[\"hard left\"]\n",
        "]))"
      ],
      "execution_count": 0,
      "outputs": []
    },
    {
      "cell_type": "markdown",
      "metadata": {
        "id": "V3aRDObvVe6U",
        "colab_type": "text"
      },
      "source": [
        "## **Fazi sistem: pravila**\n",
        "\n",
        "Fazi pravila su ručno definisana uzimanjem nekih od postojećih kombinacija pravila za koje se činilo da imaju najviše smisla. \n",
        "\n",
        "Genetski algoritam je nezavistan od fazi pravila u smislu da kako god da definišemo pravila, genetski algoritam će naći neko dobro rešenje za tako definisana pravila. Razlozi zbog kojih ne ubacujemo pravila u optimizaciju genetskog algoritma:\n",
        "\n",
        "> Već imamo neke informacije o tome kako treba da izgledaju pravila (npr. ako nam je desna strana blizu, pravilo koje kaže da skrenemo oštro desno očigledno nema smisla).\n",
        "\n",
        "> Kombinatorna ekplozija. Za svaki ulazni argument u pravilu imamo *n+1* mogućnosti (ne moramo neku celinu iskoristiti kao argument) i za svaku izlaznu celinu imamo *n* mogućnosti. Za ugao imamo 625 mogućnosti, a za brzinu 500 mogućnosti. To je ukupno 312500 mogućnosti za pravila. Zajedno sa ulaznim i izlaznim celinama ovaj broj je ogroman, a evaluacija rešenja je skupa operacija. Praktično je neizvodljivo to izvršiti u našem slučaju ako uzmemo u obzir da vreme izvršavanja programa treba da bude relativno kratko.   \n",
        "Druga opcija je da se optimizuju fazi pravila i fazi ulaz za fiksirani izlaz (u našoj implementaciji je lako prebaciti se na drugu opciju). Još jedna alternativa je da se fiksiraju i izlazne celine i pravila. \n",
        "\n",
        "Pravila koja su korišćena pri optimizaciji:"
      ]
    },
    {
      "cell_type": "code",
      "metadata": {
        "id": "wsXCqzsuVe6b",
        "colab_type": "code",
        "colab": {}
      },
      "source": [
        "# Pravila za ugao\n",
        "import fuzzy\n",
        "import numpy as np\n",
        "\n",
        "angle_rules = fuzzy.FuzzyRules(np.array([\n",
        "    fuzzy.Rule(np.array([left[\"close\"], right[\"midrange\"]]), angle[\"hard right\"]),\n",
        "    fuzzy.Rule(np.array([left[\"midrange\"], right[\"close\"]]), angle[\"hard left\"]),\n",
        "    fuzzy.Rule(np.array([left[\"close\"], right[\"far\"]]), angle[\"hard right\"]),\n",
        "    fuzzy.Rule(np.array([left[\"far\"], right[\"close\"]]), angle[\"hard left\"]),\n",
        "\n",
        "    fuzzy.Rule(np.array([left[\"close\"], front[\"close\"]]), angle[\"hard right\"]),\n",
        "    fuzzy.Rule(np.array([right[\"close\"], front[\"close\"]]), angle[\"hard left\"]),\n",
        "    fuzzy.Rule(np.array([left[\"close\"], front[\"midrange\"]]), angle[\"right\"]),\n",
        "    fuzzy.Rule(np.array([right[\"close\"], front[\"midrange\"]]), angle[\"left\"]),\n",
        "\n",
        "    fuzzy.Rule(np.array([left[\"far\"], right[\"midrange\"]]), angle[\"hard left\"]),\n",
        "    fuzzy.Rule(np.array([left[\"midrange\"], right[\"far\"]]), angle[\"hard right\"]),\n",
        "    fuzzy.Rule(np.array([left[\"very far\"], right[\"midrange\"]]), angle[\"hard left\"]),\n",
        "    fuzzy.Rule(np.array([left[\"midrange\"], right[\"very far\"]]), angle[\"hard right\"]),\n",
        "    fuzzy.Rule(np.array([left[\"far\"], right[\"close\"]]), angle[\"left\"]),\n",
        "    fuzzy.Rule(np.array([left[\"close\"], right[\"far\"]]), angle[\"right\"]),\n",
        "\n",
        "    fuzzy.Rule(np.array([left[\"midrange\"], right[\"midrange\"]]), angle[\"forward\"]),\n",
        "    fuzzy.Rule(np.array([left[\"close\"]]), angle[\"hard right\"]),\n",
        "    fuzzy.Rule(np.array([right[\"close\"]]), angle[\"hard left\"]),\n",
        "]))"
      ],
      "execution_count": 0,
      "outputs": []
    },
    {
      "cell_type": "code",
      "metadata": {
        "id": "QNTV2HyRVe6g",
        "colab_type": "code",
        "colab": {}
      },
      "source": [
        " # Pravila za brzinu\n",
        " \n",
        " velocity_rules = fuzzy.FuzzyRules(np.array([\n",
        "        fuzzy.Rule(np.array([front[\"close\"]]), velocity[\"low\"]),\n",
        "        fuzzy.Rule(np.array([front[\"midrange\"]]), velocity[\"middle\"]),\n",
        "        fuzzy.Rule(np.array([front[\"far\"]]), velocity[\"high\"]),\n",
        "        fuzzy.Rule(np.array([front[\"very far\"]]), velocity[\"very high\"])\n",
        "    ]))"
      ],
      "execution_count": 0,
      "outputs": []
    },
    {
      "cell_type": "markdown",
      "metadata": {
        "id": "VXbiuHHGVe6a",
        "colab_type": "text"
      },
      "source": [
        "## **Genetski algoritam: Hromozom i početna populacija**\n",
        "\n",
        "Svaki hromozom sadrži fazi sisteme za ugao i brzinu, kao i fitnes. Početni fazi sistemi se generišu pomoću `fuzzy_generator.py` fajla i inicijalizacija sistema je takva da garantuje valjanost.\n",
        "\n",
        "#### **Generisanje funkcija pripadnosti kod početne populacije**\n",
        "\n",
        "Najkritičniji deo algoritma je generisanje početne populacije, a jedini zaista nasumičan deo kod generisanja populacije je bio generisanje funkcija pripadnosti. Svaka funkcija pripadnosti je morala da poštuje sledeća ograničenja:\n",
        "- Vrednosti za X su unutar dozvoljenog intervala\n",
        "- Ne sme postojati nepokriven deo X ose unutar dozvoljenog intervala\n",
        "\n",
        "Funkcija pripadnosti se sastojala iz 2 niza koordinata:\n",
        "- Niz za X koji uzima vrednost iz intervala [`left_boundary`, `right_boundary`]\n",
        "- Niz Y koji uzima jednu od vrednosti {0, 1}\n",
        "\n",
        "Svaka trapezna funkcija je opisana sa 4 para tačaka koje označavaju kritične tačke trapeza. Slično, svaka *ramp* funkcija je opisana sa 2 para tačaka.\n",
        "\n",
        "Y koordinate su bile generisane u skladu sa tim koju vrstu funkcije opisuju jer je poznato da će *ramp* funkcije biti samo na krajevima, dok će sve ostale funkcije biti trapezoidne. Takođe, bilo je poznato da prva *ramp* funkcija mora ići od 1 do 0 po Y osi, dok druga mora ići od 0 do 1. Y koordinate su bile izgenerisane sledećom funkcijom:"
      ]
    },
    {
      "cell_type": "code",
      "metadata": {
        "id": "VO1mFV0QWySQ",
        "colab_type": "code",
        "colab": {}
      },
      "source": [
        "def get_ys(size):\n",
        "    \"\"\"\n",
        "    generate 10|0110|...|0110|01 sequence of ys\n",
        "    \n",
        "    len(10|0110|...|0110|01) = size\n",
        "    \"\"\"\n",
        "    ys = [1, 0]\n",
        "    for i in range(2, size):\n",
        "        #? if we are on the edges of the 0110\n",
        "        #? here->0 110 or 011 0<-here\n",
        "        if (i-2)%4 == 0 or (i-2)%4 == 3:\n",
        "            ys.append(0)\n",
        "        else:\n",
        "            ys.append(1)\n",
        "    return ys"
      ],
      "execution_count": 0,
      "outputs": []
    },
    {
      "cell_type": "markdown",
      "metadata": {
        "id": "302YtN4zYCf6",
        "colab_type": "text"
      },
      "source": [
        "X koordinate će biti izgenerisane tako da su sigurno unutar granica intervala, da sigurno pokrivaju X osu, i da se koordinate za različite funkcije pripadnosti sigurno ne seku na samoj X osi. Ideja:\n",
        "\n",
        "> Izgenerišemo nekakav nasumičan skup početnih tačaka koji će sadržati levu i desnu granicu i gde će sve ostale tačke biti unutar granica.\n",
        "\n",
        "> Odmah možemo da odredimo *ramp* funkcije, jer znamo da su one na krajevima intervala.\n",
        "\n",
        "> Za ostale funkcije računamo središnje 2 tačke tako što ih nasumično biramo iz intervala koji sigurno uključuje trenutne 2 ključne tačke, i važi da se one ne nalaze na samom kraju tog intervala.\n",
        "\n",
        "> Krajnje tačke računamo tako što levu tačku biramo tako da je sigurno manja od trenutne leve ključne tačke, dok je veća od prethodne. Za desnu tačku radimo slično, samo gledamo da je sigurno veća od trenutne desne ključne tačke, a da je manja od naredne.\n",
        "\n",
        "Funkcija koja generiše X koordinate:\n"
      ]
    },
    {
      "cell_type": "code",
      "metadata": {
        "id": "e8GSWsjgZnW3",
        "colab_type": "code",
        "colab": {}
      },
      "source": [
        "def get_xs(size, left, right):\n",
        "    \"\"\"\n",
        "    Generates key points for trapezoidal functions.\n",
        "\n",
        "    Guarantees that there are no uncovered areas of the x-axis\n",
        "    \"\"\"\n",
        "    number_of_points = 4*(size-1)\n",
        "    #? split interval to parts within key_points represented by the key_points array \n",
        "    key_points = random.sample(range(left+1, right-1), size-1)\n",
        "    key_points.append(left)\n",
        "    key_points.append(right)\n",
        "    key_points.sort()\n",
        "\n",
        "    xs = []\n",
        "    #? left most figure (isn't a trapeziod)\n",
        "    xs.append(key_points[0])\n",
        "    xs.append(key_points[1])\n",
        "\n",
        "    for i in range(1, size-1):\n",
        "        #? choose middle points for the trapezoid\n",
        "        new_xs = random.sample(range(key_points[i]-1, key_points[i+1]+1), 2)\n",
        "        new_xs.sort()\n",
        "\n",
        "        #? choose left-most edge so that is for sure 'leftest' point in the trapezoid \n",
        "        xs.append(random.randint(key_points[i-1]+1, key_points[i]))\n",
        "        \n",
        "        #? append middle points\n",
        "        xs.append(new_xs[0])\n",
        "        xs.append(new_xs[1])\n",
        "        \n",
        "        #? choose right-most edge so that is for sure 'rightest' point in the trapezoid\n",
        "        xs.append(random.randint(key_points[i+1], key_points[i+2]-1))\n",
        "    \n",
        "    #? right most figure (isn't a trapeziod)\n",
        "    xs.append(key_points[-2])\n",
        "    xs.append(key_points[-1])\n",
        "\n",
        "    return xs"
      ],
      "execution_count": 0,
      "outputs": []
    },
    {
      "cell_type": "markdown",
      "metadata": {
        "id": "pLCgfbzzW2QH",
        "colab_type": "text"
      },
      "source": [
        "![init](https://i.imgur.com/9jZlc6F.png)"
      ]
    },
    {
      "cell_type": "markdown",
      "metadata": {
        "id": "yCfYmg42aJLN",
        "colab_type": "text"
      },
      "source": [
        "Na osnovu ova dva niza X i Y se kontruiše početni nasumično generisan fazi sistem.\n"
      ]
    },
    {
      "cell_type": "markdown",
      "metadata": {
        "id": "dmtsxGNDVe6j",
        "colab_type": "text"
      },
      "source": [
        "## **Genetski algoritam: Selekcija i elitizam**\n",
        "\n",
        "Korišćena je turnirska selekcija u kombinaciji sa elitizmom. Elitizam je unapred uzimao određen broj najboljih jedinki, dok su ostale bile odabrane selekcijom:\n"
      ]
    },
    {
      "cell_type": "code",
      "metadata": {
        "id": "0RvS7XCVVe6k",
        "colab_type": "code",
        "colab": {}
      },
      "source": [
        "TOURNAMENT_SIZE = 10\n",
        "\n",
        "def create_group(population, group_size = TOURNAMENT_SIZE):\n",
        "    ids = random.sample(range(0, population.size), group_size)\n",
        "    return population[ids]\n",
        "\n",
        "def select(population):\n",
        "    # tournament selection\n",
        "    group = create_group(population)\n",
        "    result = group[0]\n",
        "    for i in range(1, group.size):\n",
        "        if group[i] < result:\n",
        "            result = group[i]\n",
        "    return result"
      ],
      "execution_count": 0,
      "outputs": []
    },
    {
      "cell_type": "markdown",
      "metadata": {
        "id": "OVmiyqWzVe6n",
        "colab_type": "text"
      },
      "source": [
        "## **Genetski algoritam: Ukrštanje**\n",
        "\n",
        "Korišćeno je uniformno ukrštanje po funkcijama pripadnosti za svako od izlaznih pravila fazi sistema. Odvojeno su ukrštani delovi fazi sistema koji opisuju ugao i delovi fazi sistema koji opisuju brzinu:"
      ]
    },
    {
      "cell_type": "code",
      "metadata": {
        "id": "U19mnxmgVe6o",
        "colab_type": "code",
        "colab": {}
      },
      "source": [
        "def crossover(p1, p2):\n",
        "    c1 = copy.deepcopy(p1)\n",
        "    c2 = copy.deepcopy(p2)\n",
        "    for i in range(c1.FSAngle.inputs.size):\n",
        "        fuzzy_output1 = c1.FSAngle.inputs[i]\n",
        "        fuzzy_output2 = c2.FSAngle.inputs[i]\n",
        "\n",
        "        for j in range(fuzzy_output1.inputs.size):\n",
        "            mf_output1 = fuzzy_output1[j]\n",
        "            mf_output2 = fuzzy_output2[j]\n",
        "\n",
        "            r = random.random()\n",
        "            if r < 0.5:\n",
        "                swap(mf_output1, mf_output2)\n",
        "\n",
        "    for i in range(c1.FSVelocity.inputs.size):\n",
        "        fuzzy_output1 = c1.FSVelocity.inputs[i]\n",
        "        fuzzy_output2 = c2.FSVelocity.inputs[i]\n",
        "\n",
        "        for j in range(fuzzy_output1.inputs.size):\n",
        "            mf_output1 = fuzzy_output1[j]\n",
        "            mf_output2 = fuzzy_output2[j]\n",
        "\n",
        "            r = random.random()\n",
        "            if r < 0.5:\n",
        "                swap(mf_output1, mf_output2)\n",
        "                \n",
        "    return c1, c2"
      ],
      "execution_count": 0,
      "outputs": []
    },
    {
      "cell_type": "markdown",
      "metadata": {
        "id": "U3OMZNl5Ve6s",
        "colab_type": "text"
      },
      "source": [
        "##  **Genetski algoritam: Mutacija**\n",
        "\n",
        "Vršena je makro mutacija nad funkcijama pripadnosti koje određuju izlaze. Mutacija je podrazumevala generisanje novih vrednosti za kritične tačke na postojećoj funkciji koja je odabrana za mutaciju. Poštovana su sva ograničenja koje funkcija mora da zadovolji, slično kao i pri generisanju inicijalne populacije.\n",
        "\n",
        "#### Mutacija trapezne funkcije\n",
        "\n",
        "Nova funkcija je generisana tako što je svaka kritična tačka funkcije pripadnosti translirana po X osi za nasumičnu vrednost iz intervala [`-MUTATION_SPAN`, `MUTATION_SPAN`]. Zatim je vršena korekcija leve i desne granice, ako su izlazile van intervala.\n",
        "\n",
        "#### Mutacija *ramp* funkcije\n",
        "Nova funkcija je generisana tako što je samo leva, odnosno desna tačka funkcije bila pomerena za nasumičnu vrednost iz intervala [`-MUTATION_SPAN`, `MUTATION_SPAN`]. Zatim je vršena korekcija, slično kao i prilikom mutacije trapezne funkcije.\n",
        "\n",
        "\n",
        "Uzimajući u obzir performanse programa, postoje 2 verovatnoće za mutaciju:\n",
        "- `MUTATION_RATE`\n",
        "- `MUTATION_GENOM_RATE`\n",
        "\n",
        "`MUTATION_RATE` označava da li uopšte želimo da mutiramo trenutni hromozom, odnosno da li uopšte ulazimo u logiku za mutaciju.`MUTATION_GENOM_RATE` označava verovatnoću da mutiramo jednu od funkcija pripadnosti nakon što je odlučeno da se trenutni hromozom mutira:"
      ]
    },
    {
      "cell_type": "code",
      "metadata": {
        "id": "wKkaDgbqVe6t",
        "colab_type": "code",
        "colab": {}
      },
      "source": [
        "def mutate(c, mutation_rate = MUTATION_RATE):\n",
        "    r = random.random()\n",
        "    if r > mutation_rate:\n",
        "        return c\n",
        "\n",
        "    for i in range(c.FSAngle.inputs.size):\n",
        "        fuzzy_input = c.FSAngle.inputs[i]\n",
        "        for j in range(fuzzy_input.inputs.size):\n",
        "            mf_input = fuzzy_input[j]\n",
        "            for k in range(fuzzy_input.inputs[j].size):\n",
        "                \n",
        "                r = random.random()\n",
        "                if r < MUTATION_GENOM_RATE:\n",
        "                    number_of_points = int(mf_input.size)\n",
        "                    right_boundary = fuzzy_generator.ALL_FUZZY_FUNCS[fuzzy_input.name][\"right_boundary\"]\n",
        "                    left_boundary = fuzzy_generator.ALL_FUZZY_FUNCS[fuzzy_input.name][\"left_boundary\"]\n",
        "\n",
        "                    shift_value = random.randint(-MUTATION_SPAN, MUTATION_SPAN)\n",
        "\n",
        "                    if number_of_points == 2 and mf_input.points[0][1] == 1:\n",
        "                        new_value = mf_input.points[0][0] + shift_value\n",
        "                        mf_input.points[0][0] = min(right_boundary, new_value)\n",
        "\n",
        "                    elif number_of_points == 2 and mf_input.points[0][1] == 0:\n",
        "                        new_value = mf_input.points[1][0] + shift_value\n",
        "                        mf_input.points[1][0] = max(left_boundary, new_value)\n",
        "\n",
        "                    else:\n",
        "                        left = mf_input.points[0][0] + shift_value\n",
        "                        shift_value = random.randint(-MUTATION_SPAN, MUTATION_SPAN)\n",
        "                        right = mf_input.points[-1][0] + shift_value\n",
        "\n",
        "                        if left < left_boundary:\n",
        "                            left = left_boundary\n",
        "                        \n",
        "                        if right > right_boundary:\n",
        "                            right = right_boundary\n",
        "                        \n",
        "                        if left > right:\n",
        "                            swap(left, right_boundary)\n",
        "\n",
        "                        if abs(left - right) <= 2:\n",
        "                            right += 2 \n",
        "\n",
        "                        shift_value = random.randint(-MUTATION_SPAN, MUTATION_SPAN)\n",
        "                        mid_1 += shift_value\n",
        "                        shift_value = random.randint(-MUTATION_SPAN, MUTATION_SPAN)\n",
        "                        mid_2 += shift_value\n",
        "                        \n",
        "                        if mid_1 > mid_2:\n",
        "                            mid_1, mid2 = swap(mid_1, mid_2)\n",
        "\n",
        "                        new_xs = [left, mid_1, mid_2, right]\n",
        "\n",
        "                        for t in range(4):\n",
        "                            mf_input.points[t][0] = new_xs[t]\n",
        "    return c"
      ],
      "execution_count": 0,
      "outputs": []
    },
    {
      "cell_type": "markdown",
      "metadata": {
        "id": "wOFJ11bPVe6w",
        "colab_type": "text"
      },
      "source": [
        "## **Genetski algoritam: Nedopustiva rešenja**\n",
        "\n",
        "Prilikom testiranja programa primećeno je da se ponekad desi da se u trenutnoj populaciji nađe nedopustivo rešenje koje sadrži \"rupu\" u X osi.\n",
        "\n",
        "Ovakva rešenja, iako nedopustiva, brzo su ispadala iz populacije jer su ili ostajala u mestu, ili su izletala sa puta.\n",
        "\n",
        "## **Genetski algoritam: Funkcija evaluacije**\n",
        "\n",
        "Fitnes jedinke se računaju tako što bi jedinka bila puštena da vozi po stazi sve dok jedan od sledećih uslova ne bude ispunjen:\n",
        "- Jedinka je izletela sa puta\n",
        "- Dostignut je maksimalan broj iteracija (jedinka nikada ne izleće van puta, pa mora nekako da prekine vožnju)\n",
        "- Jedinka se ne pomera više od X iteracija\n",
        "\n",
        "Kako je cilj jedinke da vozi što duže i što je moguće više po sredini puta fintes funkcija je računata kao:  \n",
        "\n",
        "`left_right/iteration + punishment`\n",
        "\n",
        "`left_right` meri koliko je jedinka išla po sredini puta, `iteration` označava koliko dugo je vozila, a `punishment` je penalizacija za one jedinke koje su prestale da se kreću, ali i dalje nisu izašle van puta i za jedinke koje su izašle van puta.\n",
        "\n",
        "Ostaje mogućnost da se ubaci prosečna brzina kao jos jedan parametar za funkciju evaluacije, gde je ocena bolja što je prosečna ocena veća.\n",
        "\n",
        "**Što je fitnes manji, jedinka je bolja**"
      ]
    },
    {
      "cell_type": "code",
      "metadata": {
        "id": "DMbnfwhkVe6x",
        "colab_type": "code",
        "colab": {}
      },
      "source": [
        "def evaluate(FSAngle, FSVelocity, road_matrix, memory):\n",
        "    \"\"\"\n",
        "    Runs a single simulation, movement params are calculated based on the fuzzy systems FSAngle and FSVelocity\n",
        "    \"\"\"\n",
        "    car = vehicle.Car(constants.CAR_POS_X, constants.CAR_POS_Y, constants.CAR_ANGLE)\n",
        "\n",
        "    iteration = 0\n",
        "    past_pos = car.center_position()\n",
        "\n",
        "    dec = decoder.Decoder(FSAngle, FSVelocity, car)\n",
        "    dt = TIME_STEP\n",
        "\n",
        "    total_distance = 0\n",
        "    punishment = 0\n",
        "    left_right = 0\n",
        "\n",
        "    while iteration <= MAX_ITERATIONS:\n",
        "        \n",
        "        car.left_sensor_input, car.front_sensor_input, car.right_sensor_input = get_sensors(car, road_matrix, memory)\n",
        "        ds, drot = dec.get_movement_params()\n",
        "        car.update(dt, ds, drot)\n",
        "\n",
        "        iteration += 1 \n",
        "        total_distance += ds\n",
        "        left_right += abs(float(car.left_sensor_input) - float(car.right_sensor_input))\n",
        "\n",
        "        if iteration % 100 == 0:\n",
        "            past_x, past_y = past_pos\n",
        "            curr_x, curr_y = car.center_position()\n",
        "            if vehicle.distance(past_x, past_y, curr_x, curr_y) < MIN_DISTANCE:\n",
        "                break\n",
        "            else:\n",
        "                past_pos = car.center_position()\n",
        "\n",
        "        if car.is_idle(iteration) or car.is_collided2(road_matrix):\n",
        "            punishment = 150\n",
        "            break\n",
        "\n",
        "    return left_right/iteration + punishment"
      ],
      "execution_count": 0,
      "outputs": []
    },
    {
      "cell_type": "markdown",
      "metadata": {
        "id": "s1ubPC99V_DO",
        "colab_type": "text"
      },
      "source": [
        "## **Genetski algoritam: Rezultati**\n",
        "\n",
        "#### Parametri korišćeni pri treniranju:\n",
        "- Veličina turnira: **5**\n",
        "- Veličina populacije: **500**\n",
        "- Procenat elitistički izabranih jedinki: **5%**\n",
        "- Broj generacija: **20**\n",
        "- Opseg mutacije: **2**\n",
        "- Verotatnoća mutacije hromozoma: **0.1**\n",
        "- Verovatnoća mutacije funkcije pripadnosti: **0.1**\n",
        "\n",
        "#### Parametri korišćeni u fitnes funkciji:\n",
        "- Maksimalan broj iteracija: **500**\n",
        "- Minimalan put koje vozilo mora da pređe u **100 iteracija** da bi se smatralo pokretnim: **50**\n",
        "- Penalizacija za izletanje sa puta ili za mirovanje: **150**"
      ]
    },
    {
      "cell_type": "markdown",
      "metadata": {
        "id": "v7Wa7odKWCqO",
        "colab_type": "text"
      },
      "source": [
        "## **Optimizacija za krivudav put**\n",
        "\n",
        "#### **Izgled funkcija pripadnosti za brzinu u ugao pre i posle treniranja**\n",
        "\n",
        "##### **Ugao**\n",
        "\n",
        "![Ugao pre treniranja](https://i.imgur.com/6QZXM1t.png)\n",
        "![Ugao posle treniranja](https://i.imgur.com/vGHxSG7.png)\n",
        "\n",
        "##### **Brzina**\n",
        "\n",
        "![Brzina pre treniranja](https://i.imgur.com/OzMBaZm.png)\n",
        "![Brzina posle treniranja](https://i.imgur.com/JaqU1kk.png)\n",
        "\n",
        "\n",
        "#### Promena vrednosti fitnesa kroz generacije\n",
        "\n",
        "![Promena fitnesa kroz generacije](https://i.postimg.cc/C1ShXjgd/Krivudavi-put.png)"
      ]
    },
    {
      "cell_type": "markdown",
      "metadata": {
        "id": "v7CTedyLVe7C",
        "colab_type": "text"
      },
      "source": [
        "### Optimizacija za zatvoren put\n",
        "\n",
        "##### **Ugao**\n",
        "\n",
        "![Ugao pre treniranja](https://i.imgur.com/UbcMGK2.png)\n",
        "![Ugao posle treniranja](https://i.imgur.com/qVZosdV.png)\n",
        "\n",
        "##### **Brzina**\n",
        "\n",
        "![Brzina pre treniranja](https://i.imgur.com/CIvXUCc.png)\n",
        "![Brzina posle treniranja](https://i.imgur.com/P12YPUW.png)\n",
        "\n",
        "\n",
        "#### Promena vrednosti fitnesa kroz generacije\n",
        "\n",
        "![Promena fitnesa kroz generacije](https://i.postimg.cc/2ydt1X97/Zatvoreni-put.png)\n",
        "\n",
        "\n",
        "Sa grafika se primećuje da treniranje na krivudavom putu dalje bolje rezultate, dok se simulacijama pokazuje da daje i generalno bolju vožnju od treniranja na zatvorenom putu"
      ]
    },
    {
      "cell_type": "markdown",
      "metadata": {
        "id": "91xZuc4TQxKF",
        "colab_type": "text"
      },
      "source": [
        "## **Korišćenje optimizovanog fazi kontrolera na putevima za koje nisu trenirani**\n",
        "\n",
        "Moguće je i korišćenje unapred treniranog fazi kontrolera na putu za koji fazi sistem nije bio treniran. Ovo je, u zavisnosti od puta, davalo različite rezultate.  \n",
        "Najčešće neželjene situacije do kojih se dolazilo su bile nasumično menjanje smera, i vrtenje u krug. Bitna stvar koja je primećena je što je izuzetno retko dolazilo do izletanja automobila sa puta.\n",
        "\n",
        "Pokazalo se da se jedinke trenirane na krivudavom putu bolje ponašaju od jedinki treniranih na zatvorenom putu kada se kreću po putu za koji nisu trenirane.\n"
      ]
    },
    {
      "cell_type": "markdown",
      "metadata": {
        "id": "Ofez8KsXVe7E",
        "colab_type": "text"
      },
      "source": [
        "## **Zaključak**\n",
        "\n",
        "U ovom radu je pokazano da je moguće optimizovati fazi kontroler za upravljanje automobilom uz pomoć genetskog algoritma.\n",
        "\n",
        "Pokazano je da uz dovoljan broj iteracija automobil može dostići relativno pravilno kretanje po putu. U ovom slučaju su jedine prepreke krajevi puteva, ali pretpostavka je da fazi sistem može da se koristi za izbegavanje jednostavnijih prepreka. \n",
        "\n",
        "Takođe, pokazano je da je u nekim slučajevima moguće koristiti i kontrolere koji su trenirani na krivudavom putu za vožnju na zatvorenom putu, a pokazano je da može važiti i obrnuto.   \n",
        "Uspešnost ovakve upotrebe kontrolera je najviše zavisila od toga na kakvom zatvorenom putu se vozilo treniralo, pošto je on bio nasumično generisan.\n",
        "\n",
        "### **Dalji razvoj**\n",
        "\n",
        "Dalji razvoj može ići u smeru vremenske optimizacije algoritma, sa posebnim akcentom na funkciju koja računa fitnes. Takođe, moguće je isprobati i trenirati algoritam na drugačijim konfiguracijama puta od onih koje su ovde predstavljene.\n",
        "\n",
        "Fazi sistem bi mogao da se prevede na arduino čip kako bi upravljao stvarnim vozilom. "
      ]
    }
  ]
}