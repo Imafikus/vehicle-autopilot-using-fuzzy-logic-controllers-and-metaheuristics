{
 "cells": [
  {
   "cell_type": "code",
   "execution_count": 1,
   "metadata": {},
   "outputs": [],
   "source": [
    "import numpy as np\n",
    "import math\n",
    "import random\n",
    "import copy\n",
    "import fuzzy"
   ]
  },
  {
   "cell_type": "code",
   "execution_count": 2,
   "metadata": {},
   "outputs": [],
   "source": [
    "ALL_FUZZY_FUNCS = {\n",
    "    \"left_sensor\": {\n",
    "        \"name\": \"left_sensor\",\n",
    "        \"left_boundary\": 0,\n",
    "        \"right_boundary\": 100,\n",
    "        \"mf_names\": [\"close\", \"midrange\", \"far\", \"very_far\"],\n",
    "        \"is_input\": True,\n",
    "    },\n",
    "    \"right_sensor\": {\n",
    "        \"name\": \"right_sensor\",\n",
    "        \"left_boundary\": 0,\n",
    "        \"right_boundary\": 100,\n",
    "        \"mf_names\": [\"close\", \"midrange\", \"far\", \"very_far\"],\n",
    "        \"is_input\": True,\n",
    "    },\n",
    "    \"front_sensor\": {\n",
    "        \"name\": \"front_sensor\",\n",
    "        \"left_boundary\": 0,\n",
    "        \"right_boundary\": 20,\n",
    "        \"mf_names\": [\"close\", \"midrange\", \"far\"],\n",
    "        \"is_input\": True,\n",
    "    },\n",
    "    \"velocity\": {\n",
    "        \"name\": \"velocity\",\n",
    "        \"left_boundary\": 0,\n",
    "        \"right_boundary\": 10,\n",
    "        \"mf_names\": [\"low\", \"middle\", \"high\"],\n",
    "        \"is_input\": False,\n",
    "    },\n",
    "    \"angle\": {\n",
    "        \"name\": \"angle\",\n",
    "        \"left_boundary\": -45,\n",
    "        \"right_boundary\": 45,\n",
    "        \"mf_names\": [\"left\", \"forward\", \"right\"],\n",
    "        \"is_input\": False,\n",
    "    }\n",
    "}"
   ]
  },
  {
   "cell_type": "code",
   "execution_count": 3,
   "metadata": {},
   "outputs": [],
   "source": [
    "# y: 1 0 | 0 1 1 0 | 0 1 1 0 | 0 1 1 0 | 0 1\n",
    "# i: 0 1 | 2 3 4 5 | 6 7 8 9 | ...\n",
    "def get_ys(size):\n",
    "    ys = [1, 0]\n",
    "    for i in range(2, size):\n",
    "        if (i-2)%4 == 0 or (i-2)%4 == 3:\n",
    "            ys.append(0)\n",
    "        else:\n",
    "            ys.append(1)\n",
    "    return ys\n",
    "\n",
    "def xy_split(xs, ys, size):\n",
    "    xs_split = [np.array([xs[0], xs[1]])]\n",
    "    ys_split = [np.array([ys[0], ys[1]])]\n",
    "    split_size = size-2\n",
    "    \n",
    "    for i in range(0, split_size):\n",
    "        k = 4*i\n",
    "        xs_split.append(np.array([xs[2+k], xs[3+k], xs[4+k], xs[5+k]]))\n",
    "        ys_split.append(np.array([ys[2+k], ys[3+k], ys[4+k], ys[5+k]]))\n",
    "    xs_split.append(np.array([xs[-2], xs[-1]]))\n",
    "    ys_split.append(np.array([ys[-2], ys[-1]]))\n",
    "    \n",
    "    return (xs_split, ys_split)\n",
    "    \n",
    "    \n",
    "\n",
    "def random_fuzzy(name, func_names, left, right, alpha, is_input = True):\n",
    "    size = len(func_names)\n",
    "    number_of_points = 4*(size-1)\n",
    "    mean_step = (right - left) / number_of_points\n",
    "    sigma = alpha*mean_step**0.5\n",
    "    xs = [left]\n",
    "    \n",
    "    for i in range(number_of_points-2):\n",
    "        new_x = xs[-1] + np.random.normal(mean_step, sigma)\n",
    "        xs.append(new_x)\n",
    "    xs.append(right)\n",
    "    ys = get_ys(number_of_points)\n",
    "    \n",
    "    xs_split, ys_split = xy_split(xs, ys, size)\n",
    "    if is_input:\n",
    "        return fuzzy.FuzzyInput(name, np.array([fuzzy.MFInput(func_names[i], np.array(xs_split[i]), np.array(ys_split[i])) for i in range(size)])) \n",
    "    else:\n",
    "        return fuzzy.FuzzyOutput(name, np.array([fuzzy.MFOutput(func_names[i], np.array(xs_split[i]), np.array(ys_split[i])) for i in range(size)])) \n"
   ]
  },
  {
   "cell_type": "code",
   "execution_count": 4,
   "metadata": {},
   "outputs": [],
   "source": [
    "def random_fuzzySystem(alpha):\n",
    "    fuzzy_inputs = {}\n",
    "    fuzzy_outputs = {}\n",
    "    \n",
    "    for fuzzy_key in ALL_FUZZY_FUNCS:\n",
    "        name = ALL_FUZZY_FUNCS[fuzzy_key][\"name\"]\n",
    "        left = ALL_FUZZY_FUNCS[fuzzy_key][\"left_boundary\"]\n",
    "        right = ALL_FUZZY_FUNCS[fuzzy_key][\"right_boundary\"]\n",
    "        is_input = ALL_FUZZY_FUNCS[fuzzy_key][\"is_input\"]\n",
    "        names = ALL_FUZZY_FUNCS[fuzzy_key][\"mf_names\"]\n",
    "        \n",
    "        list_of_functions = []\n",
    "        if is_input:\n",
    "            fuzzy_inputs[name] = random_fuzzy(name, names, left, right, alpha, is_input)\n",
    "        else:\n",
    "            fuzzy_outputs[name] = random_fuzzy(name, names, left, right, alpha, is_input)\n",
    "          \n",
    "    left_sensor = fuzzy_inputs[\"left_sensor\"]\n",
    "    front_sensor = fuzzy_inputs[\"front_sensor\"]\n",
    "    right_sensor = fuzzy_inputs[\"right_sensor\"]\n",
    "    angle = fuzzy_outputs[\"angle\"]\n",
    "    velocity = fuzzy_outputs[\"velocity\"]\n",
    "    \n",
    "    angle_rules = fuzzy.FuzzyRules(np.array([\n",
    "        fuzzy.Rule(np.array([left_sensor[0], front_sensor[0]]), angle[2]),\n",
    "        fuzzy.Rule(np.array([right_sensor[0], front_sensor[0]]), angle[0]),\n",
    "        fuzzy.Rule(np.array([front_sensor[0], left_sensor[3]]), angle[0]),\n",
    "        fuzzy.Rule(np.array([front_sensor[0], right_sensor[3]]), angle[2])\n",
    "    ]))\n",
    "\n",
    "    velocity_rules = fuzzy.FuzzyRules(np.array([\n",
    "        fuzzy.Rule(np.array([front_sensor[2]]), velocity[2]),\n",
    "        fuzzy.Rule(np.array([front_sensor[1]]), velocity[1]),\n",
    "        fuzzy.Rule(np.array([front_sensor[0]]), velocity[0])\n",
    "    ]))\n",
    "    \n",
    "    FSAngle = fuzzy.FuzzySystem(np.array(list(fuzzy_inputs.values())), fuzzy_outputs[\"angle\"], angle_rules)\n",
    "    FSVelocity = fuzzy.FuzzySystem(np.array(list(fuzzy_inputs.values())), fuzzy_outputs[\"velocity\"], velocity_rules) \n",
    "    return (FSAngle, FSVelocity)"
   ]
  },
  {
   "cell_type": "code",
   "execution_count": 5,
   "metadata": {},
   "outputs": [
    {
     "name": "stdout",
     "output_type": "stream",
     "text": [
      "angle : ['[(0.0,1.0), (11.588402456867788,0.0)]', '[(32.75504578364462,0.0), (48.534007921021285,1.0), (66.63987676286621,1.0), (86.48998616554849,0.0)]', '[(94.34678137107979,0.0), (100.0,1.0)]']\n"
     ]
    }
   ],
   "source": [
    "name = \"angle\"\n",
    "print(random_fuzzy(name, ALL_FUZZY_FUNCS[name][\"mf_names\"], 0, 100, 1, ALL_FUZZY_FUNCS[name][\"is_input\"]))"
   ]
  },
  {
   "cell_type": "code",
   "execution_count": 6,
   "metadata": {},
   "outputs": [
    {
     "name": "stdout",
     "output_type": "stream",
     "text": [
      "<fuzzy.FuzzySystem object at 0x7f86f874abe0>\n",
      "<fuzzy.FuzzySystem object at 0x7f86f874ac88>\n"
     ]
    }
   ],
   "source": [
    "a, b = random_fuzzySystem(1)\n",
    "print(a)\n",
    "print(b)"
   ]
  },
  {
   "cell_type": "code",
   "execution_count": null,
   "metadata": {},
   "outputs": [],
   "source": []
  }
 ],
 "metadata": {
  "kernelspec": {
   "display_name": "Python 3",
   "language": "python",
   "name": "python3"
  },
  "language_info": {
   "codemirror_mode": {
    "name": "ipython",
    "version": 3
   },
   "file_extension": ".py",
   "mimetype": "text/x-python",
   "name": "python",
   "nbconvert_exporter": "python",
   "pygments_lexer": "ipython3",
   "version": "3.6.9"
  }
 },
 "nbformat": 4,
 "nbformat_minor": 2
}
